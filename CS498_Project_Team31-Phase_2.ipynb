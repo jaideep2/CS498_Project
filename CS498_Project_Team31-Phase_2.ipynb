{
 "cells": [
  {
   "cell_type": "markdown",
   "metadata": {},
   "source": [
    "# CS498 Project, Team 31, Phase 2\n",
    "## Sentiment Analysis of Social Media as a predictor for Bitcoin price volatility"
   ]
  },
  {
   "cell_type": "markdown",
   "metadata": {},
   "source": [
    "### Use a subset of the data collected (specifically 10/01/2017 to 12/31/2017) and conduct sentiment analysis of comments to plot the results against the historical price fluctuations studied in Phase 1. "
   ]
  },
  {
   "cell_type": "markdown",
   "metadata": {},
   "source": [
    "#### Extract simple sentiments (format: totalScore, PositiveScore, NegativeScore, Comment_id, created_utc) from Bitcoin subreddit using nltk"
   ]
  },
  {
   "cell_type": "code",
   "execution_count": null,
   "metadata": {},
   "outputs": [],
   "source": [
    "#Adapted from https://github.com/dewarim/reddit-data-tools/blob/master/src/main/python/scoreCommentsJson.py\n",
    "#Run Command: python scoreCommentsJson.py /data/location/reddit_comments.bz2 \n",
    "from nltk.sentiment.vader import SentimentIntensityAnalyzer\n",
    "from nltk import tokenize\n",
    "\n",
    "import bz2\n",
    "import json\n",
    "import sys\n",
    "import os.path\n",
    "\n",
    "sid = SentimentIntensityAnalyzer()\n",
    "archive = \"\"\n",
    "if len(sys.argv) > 1:\n",
    "    archive = sys.argv[1]\n",
    "else:    \n",
    "    print(\"No command line arguments given - exiting\")\n",
    "    sys.exit()\n",
    "\n",
    "print(\"Working on file: \" + archive)\n",
    "score_file_name = archive.replace(\"bz2\", \"sentiment\")\n",
    "if os.path.exists(score_file_name):\n",
    "    print(\"sentiment file already exists\")\n",
    "    sys.exit()\n",
    "\n",
    "bz_file = bz2.BZ2File(archive, 'rb', 1000000)\n",
    "score_file = open(score_file_name, 'w')\n",
    "\n",
    "commentCount = 0\n",
    "while True:\n",
    "    line = bz_file.readline().decode('utf8')\n",
    "    if len(line) == 0: break\n",
    "    comment = json.loads(line)\n",
    "    id = comment[\"id\"]\n",
    "    body = comment[\"body\"]\n",
    "    subreddit_id = comment[\"subreddit_id\"]\n",
    "    created_utc = comment[\"created_utc\"]\n",
    "    if subreddit_id == 't5_2s3qj': #If subreddit is Bitcoin\n",
    "        # variables to hold the overall average compound score for message\n",
    "        finalScore = 0\n",
    "        roundedFinalScore = 0\n",
    "        # variables to hold the highest positive score in the message\n",
    "        # and highest negative score in the message\n",
    "        maxPosScore = 0\n",
    "        maxNegScore = 0\n",
    "        commentLines = tokenize.sent_tokenize(body)\n",
    "        for line in commentLines:\n",
    "            ss = sid.polarity_scores(line)\n",
    "            lineCompoundScore = ss['compound']\n",
    "            finalScore += lineCompoundScore\n",
    "\n",
    "            if ss['pos'] > maxPosScore:\n",
    "                maxPosScore = ss['pos']\n",
    "            elif ss['neg'] > maxNegScore:\n",
    "                maxNegScore = ss['neg']\n",
    "\n",
    "        # roundedFinalScore is the average compound score for the entire message\n",
    "        commentLength = len(commentLines)\n",
    "        if commentLength == 0:\n",
    "            commentLength = 1\n",
    "        roundedFinalScore = round(finalScore / commentLength, 4)\n",
    "        score_file.write(\"{0}\\t{1}\\t{2}\\t{3}\\t{4}\\n\".format(roundedFinalScore, maxPosScore, maxNegScore, id, created_utc))\n",
    "        commentCount += 1\n",
    "        if commentCount % 1000 == 0:\n",
    "            print(commentCount)\n",
    "bz_file.close()\n",
    "score_file.close()"
   ]
  },
  {
   "cell_type": "markdown",
   "metadata": {},
   "source": [
    "#### The sentiment is stored in XXX.sentiment file. Time to plot graph for first 1000 comments (that aren't zero rated) in Oct 2017"
   ]
  },
  {
   "cell_type": "code",
   "execution_count": 72,
   "metadata": {},
   "outputs": [
    {
     "data": {
      "image/png": "[encoded data removed]",
      "text/plain": [
       "<Figure size 432x288 with 1 Axes>"
      ]
     },
     "metadata": {},
     "output_type": "display_data"
    }
   ],
   "source": [
    "import matplotlib.pyplot as plt\n",
    "import numpy as np\n",
    "%matplotlib inline\n",
    "import csv\n",
    "ploty = []\n",
    "plotx = []\n",
    "with open('data/RC_2017-10.sentiment', newline='') as csvfile:\n",
    "    creader = csv.reader(csvfile, delimiter='\\t')\n",
    "    for row in creader:\n",
    "        if row[0]!='0.0':\n",
    "            plotx.append(row[4])\n",
    "            ploty.append(row[0])\n",
    "ax = plt.axes()\n",
    "ax.xaxis.set_major_locator(plt.MaxNLocator(20))\n",
    "ax.yaxis.set_major_locator(plt.MaxNLocator(15))\n",
    "ax.grid()\n",
    "plt.plot(ploty[:1000],'ro')\n",
    "plt.xlabel('dates')\n",
    "plt.ylabel('sentiment')\n",
    "plt.xticks(fontsize=10,rotation=0)\n",
    "plt.show()"
   ]
  },
  {
   "cell_type": "markdown",
   "metadata": {},
   "source": [
    "#### Yup we definitely see a trend. Stay tuned.."
   ]
  },
  {
   "cell_type": "code",
   "execution_count": null,
   "metadata": {},
   "outputs": [],
   "source": []
  }
 ],
 "metadata": {
  "kernelspec": {
   "display_name": "Python 3",
   "language": "python",
   "name": "python3"
  }
 },
 "nbformat": 4,
 "nbformat_minor": 2
}
